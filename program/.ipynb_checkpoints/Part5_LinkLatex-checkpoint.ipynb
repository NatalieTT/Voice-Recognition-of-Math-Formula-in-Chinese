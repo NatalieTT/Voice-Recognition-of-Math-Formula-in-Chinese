{
 "cells": [
  {
   "cell_type": "code",
   "execution_count": 1,
   "metadata": {},
   "outputs": [
    {
     "data": {
      "text/latex": [
       "$x+sin(y)*123=526$\n"
      ],
      "text/plain": [
       "<IPython.core.display.Latex object>"
      ]
     },
     "execution_count": 1,
     "metadata": {},
     "output_type": "execute_result"
    }
   ],
   "source": [
    "# -*- coding: utf-8 -*-\n",
    "\"\"\"\n",
    "\n",
    "User: Kevin DENG\n",
    "Lang: Python\n",
    "Scho: UIC\n",
    "Proj: Fyp_Part5 Link Latex \n",
    "Date: 2020.11.02 - 2020.11.08\n",
    "    \n",
    "\"\"\"\n",
    "\n",
    "from IPython.display import Latex, display, Image\n",
    "\n",
    "fin = open(\"Latex.txt\", \"r\", encoding = 'utf-8')\n",
    "S = fin.read()\n",
    "fin.close()\n",
    "\n",
    "Latex(S)"
   ]
  },
  {
   "cell_type": "code",
   "execution_count": null,
   "metadata": {},
   "outputs": [],
   "source": []
  }
 ],
 "metadata": {
  "kernelspec": {
   "display_name": "Python 3",
   "language": "python",
   "name": "python3"
  },
  "language_info": {
   "codemirror_mode": {
    "name": "ipython",
    "version": 3
   },
   "file_extension": ".py",
   "mimetype": "text/x-python",
   "name": "python",
   "nbconvert_exporter": "python",
   "pygments_lexer": "ipython3",
   "version": "3.7.0"
  }
 },
 "nbformat": 4,
 "nbformat_minor": 2
}
